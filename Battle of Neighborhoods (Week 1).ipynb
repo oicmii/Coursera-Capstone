{
    "nbformat_minor": 1, 
    "cells": [
        {
            "source": "# The Battle of Neighborhoods (Week 1)", 
            "cell_type": "markdown", 
            "metadata": {
                "collapsed": true
            }
        }, 
        {
            "source": "## 1. Introduction / Business Problem", 
            "cell_type": "markdown", 
            "metadata": {}
        }, 
        {
            "source": "\n\nA foreign restaurant company is looking for the best place to open their business in the Philippines where it requires that the location should be in the following: \n\n1. high concentration of corporations for prospect customers\n2. proximity to shopping malls or grocery stores for food supplies\n3. established competitors as basis for human traffic in the area\n\nFirst, we need to determine which region and city in the Philippines is the best location and then finally to identify which neighborhood considering above requirements.", 
            "cell_type": "markdown", 
            "metadata": {}
        }, 
        {
            "source": "## 2. DATA", 
            "cell_type": "markdown", 
            "metadata": {}
        }, 
        {
            "source": "To solve the problem as defined, we need the following data:\n    \n1. List of cities in the Philippines: \n    https://en.wikipedia.org/wiki/List_of_cities_in_the_Philippines\n\n2. Consumer Price Index for All Income Households by Commodity Group and Geographic Area (CPI) 2012 to 2018\n    http://openstat.psa.gov.ph/sites/default/files/CPI_2012%3D100_2012-2018_v_1.xlsx\n\n3. Projected Population of the Philippines:\n    https://psa.gov.ph/sites/default/files/attachments/hsd/pressrelease/2010%20CB%20-%20Tables%20for%20Special%20Release.xlsx\n\n4. Foursquare API - to be used to get the top venues of neighborhoods", 
            "cell_type": "markdown", 
            "metadata": {}
        }, 
        {
            "execution_count": null, 
            "cell_type": "code", 
            "metadata": {}, 
            "outputs": [], 
            "source": ""
        }
    ], 
    "metadata": {
        "kernelspec": {
            "display_name": "Python 3.5", 
            "name": "python3", 
            "language": "python"
        }, 
        "language_info": {
            "mimetype": "text/x-python", 
            "nbconvert_exporter": "python", 
            "version": "3.5.5", 
            "name": "python", 
            "file_extension": ".py", 
            "pygments_lexer": "ipython3", 
            "codemirror_mode": {
                "version": 3, 
                "name": "ipython"
            }
        }
    }, 
    "nbformat": 4
}